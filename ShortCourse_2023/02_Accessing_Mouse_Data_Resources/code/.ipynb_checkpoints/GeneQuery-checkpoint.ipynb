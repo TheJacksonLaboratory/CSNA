{
 "cells": [
  {
   "cell_type": "markdown",
   "metadata": {},
   "source": [
    "Simple Gene Query from ensembl.org using Ensembl ID"
   ]
  },
  {
   "cell_type": "code",
   "execution_count": 12,
   "metadata": {},
   "outputs": [
    {
     "data": {
      "text/plain": [
       "{'source': 'ensembl_havana',\n",
       " 'object_type': 'Gene',\n",
       " 'logic_name': 'ensembl_havana_gene',\n",
       " 'version': 8,\n",
       " 'species': 'mus_musculus',\n",
       " 'description': 'dopamine receptor D2 [Source:MGI Symbol;Acc:MGI:94924]',\n",
       " 'display_name': 'Drd2',\n",
       " 'assembly_name': 'GRCm38',\n",
       " 'biotype': 'protein_coding',\n",
       " 'end': 49408177,\n",
       " 'seq_region_name': '9',\n",
       " 'db_type': 'core',\n",
       " 'strand': 1,\n",
       " 'id': 'ENSMUSG00000032259',\n",
       " 'start': 49340627}"
      ]
     },
     "execution_count": 12,
     "metadata": {},
     "output_type": "execute_result"
    }
   ],
   "source": [
    "import json\n",
    "import requests\n",
    "from pandas.io.json import json_normalize\n",
    "\n",
    "\n",
    "r = requests.get('http://rest.ensembl.org/lookup/id/ENSMUSG00000032259?content-type=application/json')  \n",
    "gene_info = json.loads(r.text)\n",
    "gene_info\n"
   ]
  },
  {
   "cell_type": "markdown",
   "metadata": {},
   "source": [
    "Simple Gene Query from ensembl.org using a gene symbol"
   ]
  },
  {
   "cell_type": "code",
   "execution_count": 2,
   "metadata": {},
   "outputs": [
    {
     "data": {
      "text/plain": [
       "{'source': 'ensembl_havana',\n",
       " 'object_type': 'Gene',\n",
       " 'logic_name': 'ensembl_havana_gene',\n",
       " 'seq_region_name': '9',\n",
       " 'db_type': 'core',\n",
       " 'strand': 1,\n",
       " 'id': 'ENSMUSG00000032259',\n",
       " 'Transcript': [{'source': 'ensembl_havana',\n",
       "   'object_type': 'Transcript',\n",
       "   'logic_name': 'ensembl_havana_transcript',\n",
       "   'Exon': [{'object_type': 'Exon',\n",
       "     'version': 3,\n",
       "     'species': 'mus_musculus',\n",
       "     'assembly_name': 'GRCm38',\n",
       "     'end': 49340724,\n",
       "     'seq_region_name': '9',\n",
       "     'db_type': 'core',\n",
       "     'strand': 1,\n",
       "     'id': 'ENSMUSE00000637071',\n",
       "     'start': 49340627},\n",
       "    {'object_type': 'Exon',\n",
       "     'version': 4,\n",
       "     'species': 'mus_musculus',\n",
       "     'assembly_name': 'GRCm38',\n",
       "     'end': 49395900,\n",
       "     'seq_region_name': '9',\n",
       "     'db_type': 'core',\n",
       "     'strand': 1,\n",
       "     'id': 'ENSMUSE00000462498',\n",
       "     'start': 49395585},\n",
       "    {'object_type': 'Exon',\n",
       "     'version': 3,\n",
       "     'species': 'mus_musculus',\n",
       "     'assembly_name': 'GRCm38',\n",
       "     'end': 49399845,\n",
       "     'seq_region_name': '9',\n",
       "     'db_type': 'core',\n",
       "     'strand': 1,\n",
       "     'id': 'ENSMUSE00000218208',\n",
       "     'start': 49399736},\n",
       "    {'object_type': 'Exon',\n",
       "     'version': 3,\n",
       "     'species': 'mus_musculus',\n",
       "     'assembly_name': 'GRCm38',\n",
       "     'end': 49400880,\n",
       "     'seq_region_name': '9',\n",
       "     'db_type': 'core',\n",
       "     'strand': 1,\n",
       "     'id': 'ENSMUSE00000535301',\n",
       "     'start': 49400744},\n",
       "    {'object_type': 'Exon',\n",
       "     'version': 5,\n",
       "     'species': 'mus_musculus',\n",
       "     'assembly_name': 'GRCm38',\n",
       "     'end': 49402255,\n",
       "     'seq_region_name': '9',\n",
       "     'db_type': 'core',\n",
       "     'strand': 1,\n",
       "     'id': 'ENSMUSE00000218206',\n",
       "     'start': 49402065},\n",
       "    {'object_type': 'Exon',\n",
       "     'version': 3,\n",
       "     'species': 'mus_musculus',\n",
       "     'assembly_name': 'GRCm38',\n",
       "     'end': 49403280,\n",
       "     'seq_region_name': '9',\n",
       "     'db_type': 'core',\n",
       "     'strand': 1,\n",
       "     'id': 'ENSMUSE00000246200',\n",
       "     'start': 49403194},\n",
       "    {'object_type': 'Exon',\n",
       "     'version': 3,\n",
       "     'species': 'mus_musculus',\n",
       "     'assembly_name': 'GRCm38',\n",
       "     'end': 49405082,\n",
       "     'seq_region_name': '9',\n",
       "     'db_type': 'core',\n",
       "     'strand': 1,\n",
       "     'id': 'ENSMUSE00000218190',\n",
       "     'start': 49404752},\n",
       "    {'object_type': 'Exon',\n",
       "     'version': 2,\n",
       "     'species': 'mus_musculus',\n",
       "     'assembly_name': 'GRCm38',\n",
       "     'end': 49408177,\n",
       "     'seq_region_name': '9',\n",
       "     'db_type': 'core',\n",
       "     'strand': 1,\n",
       "     'id': 'ENSMUSE00000977326',\n",
       "     'start': 49406901}],\n",
       "   'Parent': 'ENSMUSG00000032259',\n",
       "   'seq_region_name': '9',\n",
       "   'db_type': 'core',\n",
       "   'is_canonical': 1,\n",
       "   'strand': 1,\n",
       "   'id': 'ENSMUST00000075764',\n",
       "   'version': 7,\n",
       "   'species': 'mus_musculus',\n",
       "   'assembly_name': 'GRCm38',\n",
       "   'display_name': 'Drd2-201',\n",
       "   'end': 49408177,\n",
       "   'biotype': 'protein_coding',\n",
       "   'Translation': {'object_type': 'Translation',\n",
       "    'species': 'mus_musculus',\n",
       "    'Parent': 'ENSMUST00000075764',\n",
       "    'end': 49407094,\n",
       "    'length': 444,\n",
       "    'db_type': 'core',\n",
       "    'id': 'ENSMUSP00000075170',\n",
       "    'start': 49395616},\n",
       "   'start': 49340627}],\n",
       " 'version': 8,\n",
       " 'species': 'mus_musculus',\n",
       " 'assembly_name': 'GRCm38',\n",
       " 'display_name': 'Drd2',\n",
       " 'description': 'dopamine receptor D2 [Source:MGI Symbol;Acc:MGI:94924]',\n",
       " 'end': 49408177,\n",
       " 'biotype': 'protein_coding',\n",
       " 'start': 49340627}"
      ]
     },
     "execution_count": 2,
     "metadata": {},
     "output_type": "execute_result"
    }
   ],
   "source": [
    "import json\n",
    "import requests\n",
    "from pandas.io.json import json_normalize\n",
    "\n",
    "\n",
    "r = requests.get('http://rest.ensembl.org/lookup/symbol/mus_musculus/Drd2?content-type=application/json;expand=1')  \n",
    "gene_info = json.loads(r.text)\n",
    "gene_info\n",
    "\n"
   ]
  },
  {
   "cell_type": "code",
   "execution_count": null,
   "metadata": {},
   "outputs": [],
   "source": []
  }
 ],
 "metadata": {
  "kernelspec": {
   "display_name": "Python 3",
   "language": "python",
   "name": "python3"
  },
  "language_info": {
   "codemirror_mode": {
    "name": "ipython",
    "version": 3
   },
   "file_extension": ".py",
   "mimetype": "text/x-python",
   "name": "python",
   "nbconvert_exporter": "python",
   "pygments_lexer": "ipython3",
   "version": "3.6.5"
  }
 },
 "nbformat": 4,
 "nbformat_minor": 2
}
