{
 "cells": [
  {
   "cell_type": "markdown",
   "metadata": {},
   "source": [
    "# Using GeneNetwork and MPD to retrieve a phenotype and plot them\n",
    "\n",
    "Here we will pull the same mouse phenotypes from two resources, GeneNetwork and Mouse Phenome Database. The phenotype we are working with is the latency of nociceptive response to hot plate (54°C) in a 30 s test across the BXD strain population and early inbreeding generations of the Collaborative Cross. We will then plot the distribution of this phenotype across these two populations.\n"
   ]
  },
  {
   "cell_type": "code",
   "execution_count": 66,
   "metadata": {},
   "outputs": [
    {
     "data": {
      "image/png": "[encoded data removed]",
      "text/plain": [
       "<Figure size 432x288 with 1 Axes>"
      ]
     },
     "metadata": {},
     "output_type": "display_data"
    }
   ],
   "source": [
    "import numpy\n",
    "import io\n",
    "import pandas as pd\n",
    "import requests\n",
    "\n",
    "import matplotlib.pyplot as plt\n",
    "import json\n",
    "from pandas.io.json import json_normalize\n",
    "\n",
    "\n",
    "#read data from the GeneNetwork\n",
    "bxd_req = requests.get('http://robot.genenehttp://localhost:8891/notebooks/CS-SA/CSNA/ShortCourse_2018/02_Accessing_Mouse_Data_Resources/code/queryMouseResources_GN-MPD_plots.ipynb#twork.org/webqtl/main.py?cmd=trait&probeset=11897&db=BXDPublish&format=col')  \n",
    "bxd = pd.read_csv(io.StringIO(bxd_req.text), sep='\\t') \n",
    "\n",
    "#access data\n",
    "bxd_hp=bxd['11897']\n",
    "\n",
    "#log transform the phenotype\n",
    "log_bxd_hp = numpy.log2(bxd_hp) \n",
    "\n",
    "\n",
    "#read data from Mouse Phenome Database\n",
    "mpd = requests.get(\"https://phenome.jax.org/api/pheno/animalvals/43574\") \n",
    "mpd_hp = json.loads(mpd.text)\n",
    "mpd_hp_animaldata = json_normalize(mpd_hp['animaldata'])\n",
    "\n",
    "#Compute strain means\n",
    "cc_hp_animaldata=mpd_hp_animaldata[mpd_hp_animaldata['strain'].str.contains(\"PreCC\")]\n",
    "cc_hp_mean = cc_hp_animaldata.groupby('strain')['value'].mean()\n",
    "\n",
    "#log transform the phenotype\n",
    "log_cc_hp = numpy.log2(cc_hp_mean)\n",
    "\n",
    "\n",
    "#plot the phenotype distributions\n",
    "plt.hist(log_cc_hp,  alpha=0.5, label='CC')\n",
    "plt.hist(log_bxd_hp,   alpha=0.5, label='BXD')\n",
    "plt.legend(loc='upper right')\n",
    "plt.show()"
   ]
  },
  {
   "cell_type": "code",
   "execution_count": null,
   "metadata": {},
   "outputs": [],
   "source": []
  }
 ],
 "metadata": {
  "kernelspec": {
   "display_name": "Python 3",
   "language": "python",
   "name": "python3"
  },
  "language_info": {
   "codemirror_mode": {
    "name": "ipython",
    "version": 3
   },
   "file_extension": ".py",
   "mimetype": "text/x-python",
   "name": "python",
   "nbconvert_exporter": "python",
   "pygments_lexer": "ipython3",
   "version": "3.6.5"
  }
 },
 "nbformat": 4,
 "nbformat_minor": 2
}
