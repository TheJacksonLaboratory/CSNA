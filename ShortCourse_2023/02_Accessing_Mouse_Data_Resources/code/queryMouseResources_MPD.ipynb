{
 "cells": [
  {
   "cell_type": "markdown",
   "metadata": {},
   "source": [
    "# Accessing strain survey data using MPD\n",
    "\n",
    "In this example we will programmatically retrieve a measure record from MPD. The measure we are working with here reflects total locomotor activity 3h post cocaine injection over a test period of 4 hours. This measure has an MPD measure ID of 40708 and is named activ_cocaine2_3. A total of 15 strains were assayed across both sexs with an average n of 8 mice per sex per strain. \n",
    "\n",
    "We will first retrieve individual animal values for this measure."
   ]
  },
  {
   "cell_type": "code",
   "execution_count": 1,
   "metadata": {},
   "outputs": [
    {
     "name": "stdout",
     "output_type": "stream",
     "text": [
      "    animal_id  measnum   projsym sex stocknum         strain  strainid  \\\n",
      "0         639    40708  Thomsen1   f   002448    129S1/SvImJ         3   \n",
      "1         638    40708  Thomsen1   f   002448    129S1/SvImJ         3   \n",
      "2         637    40708  Thomsen1   f   002448    129S1/SvImJ         3   \n",
      "3         636    40708  Thomsen1   f   002448    129S1/SvImJ         3   \n",
      "4         643    40708  Thomsen1   f   002448    129S1/SvImJ         3   \n",
      "5         642    40708  Thomsen1   f   002448    129S1/SvImJ         3   \n",
      "6         641    40708  Thomsen1   f   002448    129S1/SvImJ         3   \n",
      "7         640    40708  Thomsen1   f   002448    129S1/SvImJ         3   \n",
      "8         631    40708  Thomsen1   m   002448    129S1/SvImJ         3   \n",
      "9         633    40708  Thomsen1   m   002448    129S1/SvImJ         3   \n",
      "10        634    40708  Thomsen1   m   002448    129S1/SvImJ         3   \n",
      "11        635    40708  Thomsen1   m   002448    129S1/SvImJ         3   \n",
      "12        628    40708  Thomsen1   m   002448    129S1/SvImJ         3   \n",
      "13        629    40708  Thomsen1   m   002448    129S1/SvImJ         3   \n",
      "14        630    40708  Thomsen1   m   002448    129S1/SvImJ         3   \n",
      "15        632    40708  Thomsen1   m   002448    129S1/SvImJ         3   \n",
      "16        753    40708  Thomsen1   f      809  129S6/SvEvTac        53   \n",
      "17        752    40708  Thomsen1   f      809  129S6/SvEvTac        53   \n",
      "18        751    40708  Thomsen1   f      809  129S6/SvEvTac        53   \n",
      "19        750    40708  Thomsen1   f      809  129S6/SvEvTac        53   \n",
      "20        749    40708  Thomsen1   f      809  129S6/SvEvTac        53   \n",
      "21        748    40708  Thomsen1   f      809  129S6/SvEvTac        53   \n",
      "22        747    40708  Thomsen1   f      809  129S6/SvEvTac        53   \n",
      "23        754    40708  Thomsen1   f      809  129S6/SvEvTac        53   \n",
      "24        745    40708  Thomsen1   m      809  129S6/SvEvTac        53   \n",
      "25        739    40708  Thomsen1   m      809  129S6/SvEvTac        53   \n",
      "26        740    40708  Thomsen1   m      809  129S6/SvEvTac        53   \n",
      "27        741    40708  Thomsen1   m      809  129S6/SvEvTac        53   \n",
      "28        742    40708  Thomsen1   m      809  129S6/SvEvTac        53   \n",
      "29        743    40708  Thomsen1   m      809  129S6/SvEvTac        53   \n",
      "..        ...      ...       ...  ..      ...            ...       ...   \n",
      "202       755    40708  Thomsen1   m   000686          SJL/J        17   \n",
      "203       655    40708  Thomsen1   f   001146      SPRET/EiJ        39   \n",
      "204       657    40708  Thomsen1   f   001146      SPRET/EiJ        39   \n",
      "205       651    40708  Thomsen1   f   001146      SPRET/EiJ        39   \n",
      "206       652    40708  Thomsen1   f   001146      SPRET/EiJ        39   \n",
      "207       653    40708  Thomsen1   f   001146      SPRET/EiJ        39   \n",
      "208       654    40708  Thomsen1   f   001146      SPRET/EiJ        39   \n",
      "209       658    40708  Thomsen1   f   001146      SPRET/EiJ        39   \n",
      "210       644    40708  Thomsen1   m   001146      SPRET/EiJ        39   \n",
      "211       646    40708  Thomsen1   m   001146      SPRET/EiJ        39   \n",
      "212       647    40708  Thomsen1   m   001146      SPRET/EiJ        39   \n",
      "213       650    40708  Thomsen1   m   001146      SPRET/EiJ        39   \n",
      "214       649    40708  Thomsen1   m   001146      SPRET/EiJ        39   \n",
      "215       648    40708  Thomsen1   m   001146      SPRET/EiJ        39   \n",
      "216       486    40708  Thomsen1   f      856         Tac:SW        54   \n",
      "217       489    40708  Thomsen1   f      856         Tac:SW        54   \n",
      "218       490    40708  Thomsen1   f      856         Tac:SW        54   \n",
      "219       491    40708  Thomsen1   f      856         Tac:SW        54   \n",
      "220       492    40708  Thomsen1   f      856         Tac:SW        54   \n",
      "221       487    40708  Thomsen1   f      856         Tac:SW        54   \n",
      "222       488    40708  Thomsen1   f      856         Tac:SW        54   \n",
      "223       485    40708  Thomsen1   f      856         Tac:SW        54   \n",
      "224       484    40708  Thomsen1   m      856         Tac:SW        54   \n",
      "225       483    40708  Thomsen1   m      856         Tac:SW        54   \n",
      "226       482    40708  Thomsen1   m      856         Tac:SW        54   \n",
      "227       481    40708  Thomsen1   m      856         Tac:SW        54   \n",
      "228       480    40708  Thomsen1   m      856         Tac:SW        54   \n",
      "229       479    40708  Thomsen1   m      856         Tac:SW        54   \n",
      "230       478    40708  Thomsen1   m      856         Tac:SW        54   \n",
      "231       477    40708  Thomsen1   m      856         Tac:SW        54   \n",
      "\n",
      "      value           varname  zscore  \n",
      "0     497.0  activ_cocaine2_3   -0.08  \n",
      "1     631.0  activ_cocaine2_3    0.87  \n",
      "2     609.0  activ_cocaine2_3    0.72  \n",
      "3     264.0  activ_cocaine2_3   -1.74  \n",
      "4     699.0  activ_cocaine2_3    1.36  \n",
      "5     488.0  activ_cocaine2_3   -0.15  \n",
      "6     382.0  activ_cocaine2_3   -0.90  \n",
      "7     499.0  activ_cocaine2_3   -0.07  \n",
      "8     452.0  activ_cocaine2_3    0.05  \n",
      "9     371.0  activ_cocaine2_3   -0.50  \n",
      "10    236.0  activ_cocaine2_3   -1.42  \n",
      "11    239.0  activ_cocaine2_3   -1.39  \n",
      "12    573.0  activ_cocaine2_3    0.87  \n",
      "13    555.0  activ_cocaine2_3    0.75  \n",
      "14    528.0  activ_cocaine2_3    0.56  \n",
      "15    604.0  activ_cocaine2_3    1.08  \n",
      "16     31.0  activ_cocaine2_3   -2.14  \n",
      "17    488.0  activ_cocaine2_3    0.44  \n",
      "18    374.0  activ_cocaine2_3   -0.20  \n",
      "19    502.0  activ_cocaine2_3    0.52  \n",
      "20    480.0  activ_cocaine2_3    0.39  \n",
      "21    487.0  activ_cocaine2_3    0.43  \n",
      "22    609.0  activ_cocaine2_3    1.12  \n",
      "23    309.0  activ_cocaine2_3   -0.57  \n",
      "24    126.0  activ_cocaine2_3   -1.36  \n",
      "25    574.0  activ_cocaine2_3    1.33  \n",
      "26    452.0  activ_cocaine2_3    0.60  \n",
      "27    561.0  activ_cocaine2_3    1.25  \n",
      "28    190.0  activ_cocaine2_3   -0.97  \n",
      "29    322.0  activ_cocaine2_3   -0.18  \n",
      "..      ...               ...     ...  \n",
      "202   534.0  activ_cocaine2_3   -0.94  \n",
      "203  1065.0  activ_cocaine2_3    1.78  \n",
      "204   597.0  activ_cocaine2_3   -0.37  \n",
      "205   474.0  activ_cocaine2_3   -0.94  \n",
      "206   488.0  activ_cocaine2_3   -0.87  \n",
      "207   875.0  activ_cocaine2_3    0.91  \n",
      "208   575.0  activ_cocaine2_3   -0.47  \n",
      "209   673.0  activ_cocaine2_3   -0.02  \n",
      "210   821.0  activ_cocaine2_3    1.07  \n",
      "211   807.0  activ_cocaine2_3    1.02  \n",
      "212   652.0  activ_cocaine2_3    0.46  \n",
      "213   382.0  activ_cocaine2_3   -0.50  \n",
      "214   336.0  activ_cocaine2_3   -0.66  \n",
      "215   134.0  activ_cocaine2_3   -1.39  \n",
      "216  2571.0  activ_cocaine2_3   -0.53  \n",
      "217  2868.0  activ_cocaine2_3   -0.26  \n",
      "218  2217.0  activ_cocaine2_3   -0.87  \n",
      "219  2932.0  activ_cocaine2_3   -0.20  \n",
      "220  2203.0  activ_cocaine2_3   -0.88  \n",
      "221  2983.0  activ_cocaine2_3   -0.15  \n",
      "222  3950.0  activ_cocaine2_3    0.76  \n",
      "223  5407.0  activ_cocaine2_3    2.12  \n",
      "224   776.0  activ_cocaine2_3   -0.61  \n",
      "225  1071.0  activ_cocaine2_3   -0.47  \n",
      "226  1578.0  activ_cocaine2_3   -0.24  \n",
      "227  2636.0  activ_cocaine2_3    0.26  \n",
      "228   943.0  activ_cocaine2_3   -0.53  \n",
      "229  2196.0  activ_cocaine2_3    0.05  \n",
      "230   421.0  activ_cocaine2_3   -0.78  \n",
      "231  7040.0  activ_cocaine2_3    2.32  \n",
      "\n",
      "[232 rows x 10 columns]\n"
     ]
    }
   ],
   "source": [
    "import requests\n",
    "import json\n",
    "from pandas.io.json import json_normalize\n",
    "\n",
    "resp = requests.get(\"https://phenome.jax.org/api/pheno/animalvals/40708\") \n",
    "data = json.loads(resp.text)\n",
    "animaldata = json_normalize(data['animaldata'])\n",
    "print (animaldata)"
   ]
  },
  {
   "cell_type": "markdown",
   "metadata": {},
   "source": [
    "# Assess strain x sex effects\n",
    "\n",
    "Now let us fit a linear model that assesses the main effects of strain and sex in addition to strain by sex effects\n"
   ]
  },
  {
   "cell_type": "code",
   "execution_count": 2,
   "metadata": {},
   "outputs": [
    {
     "name": "stdout",
     "output_type": "stream",
     "text": [
      "                     df        sum_sq       mean_sq          F        PR(>F)\n",
      "C(sex)              1.0  2.931693e+07  2.931693e+07   8.435830  4.088519e-03\n",
      "C(strain)          14.0  1.172687e+09  8.376333e+07  24.102563  9.216382e-36\n",
      "C(strain):C(sex)   14.0  1.231190e+08  8.794214e+06   2.530500  2.365076e-03\n",
      "Residual          202.0  7.020080e+08  3.475287e+06        NaN           NaN\n"
     ]
    }
   ],
   "source": [
    "from statsmodels.formula.api import ols\n",
    "from statsmodels.stats.anova import anova_lm\n",
    "from statsmodels.graphics.factorplots import interaction_plot\n",
    "\n",
    "formula = 'value ~ C(sex) + C(strain) + C(strain):C(sex)'\n",
    "model = ols(formula, animaldata).fit()\n",
    "aov_table = anova_lm(model)\n",
    "\n",
    "print(aov_table)\n"
   ]
  },
  {
   "cell_type": "markdown",
   "metadata": {},
   "source": [
    "# Estimating heritability\n",
    "\n",
    "Quite simply, heritability is defined as the ratio of genotypic and phenotypic variance. Therefore to estimate heritability we will need to obtain the between subject variance (genetic variance) along with the within subject variance (error variance) and interaction variance contained in the strain:sex term."
   ]
  },
  {
   "cell_type": "code",
   "execution_count": 3,
   "metadata": {},
   "outputs": [
    {
     "name": "stdout",
     "output_type": "stream",
     "text": [
      "heritability for this measure is :  0.35\n"
     ]
    }
   ],
   "source": [
    "msb = aov_table.mean_sq[1] #between subject variance\n",
    "mse = aov_table.mean_sq[3] #within subject variance\n",
    "msi = aov_table.mean_sq[2] #interaction variance\n",
    "s = 2\n",
    "n = 8\n",
    "\n",
    "h2 = round((msb-msi)/(s*(msb+(n-1)*mse)),2)\n",
    "\n",
    "print(\"heritability for this measure is : \", h2)\n"
   ]
  },
  {
   "cell_type": "code",
   "execution_count": null,
   "metadata": {},
   "outputs": [],
   "source": []
  }
 ],
 "metadata": {
  "kernelspec": {
   "display_name": "Python 3",
   "language": "python",
   "name": "python3"
  },
  "language_info": {
   "codemirror_mode": {
    "name": "ipython",
    "version": 3
   },
   "file_extension": ".py",
   "mimetype": "text/x-python",
   "name": "python",
   "nbconvert_exporter": "python",
   "pygments_lexer": "ipython3",
   "version": "3.6.5"
  }
 },
 "nbformat": 4,
 "nbformat_minor": 2
}
